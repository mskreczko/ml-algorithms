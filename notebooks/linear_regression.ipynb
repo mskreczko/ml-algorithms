{
 "cells": [
  {
   "cell_type": "code",
   "execution_count": 5,
   "id": "2c935615-d3b5-4855-8322-aa02ef685b27",
   "metadata": {},
   "outputs": [],
   "source": [
    "import numpy as np\n",
    "import matplotlib.pyplot as plt"
   ]
  },
  {
   "cell_type": "code",
   "execution_count": 10,
   "id": "835f98c9-9a11-429c-9a7f-125252fe4e57",
   "metadata": {},
   "outputs": [],
   "source": [
    "class LinearRegression:\n",
    "    def __init__(self, lr=0.01, epochs=1000):\n",
    "        self.lr = lr\n",
    "        self.epochs = epochs\n",
    "        self.weights = None\n",
    "        self.bias = 0\n",
    "        self.losses = []\n",
    "    \n",
    "    def predict(self, X):\n",
    "        return np.dot(X, self.weights) + self.bias\n",
    "    \n",
    "    def _init_params(self, X):\n",
    "        self.weights = np.zeros(X.shape[1])\n",
    "    \n",
    "    def compute_gradients(self, X, y, predictions):\n",
    "        diff = y - predictions\n",
    "        dm = -2*(np.dot(X.T, diff).mean())\n",
    "        db = -2*diff.mean()\n",
    "        return dm, db\n",
    "\n",
    "    def compute_loss(self, y_true, y_pred):\n",
    "        return np.sum((y_true-y_pred)**2).mean()\n",
    "    \n",
    "    def _update_params(self, dm, db):\n",
    "        self.weights -= self.lr * dm\n",
    "        self.bias -= self.lr * db\n",
    "    \n",
    "    def fit(self, X, y):\n",
    "        self._init_params(X)\n",
    "        for epoch in range(self.epochs):\n",
    "            pred = self.predict(X)\n",
    "            loss = self.compute_loss(y, pred)\n",
    "            dm, db = self.compute_gradients(X, y, pred)\n",
    "            self._update_params(dm, db)\n",
    "\n",
    "            self.losses.append(loss)"
   ]
  },
  {
   "cell_type": "code",
   "execution_count": 11,
   "id": "640a3a18-4604-42c5-a05a-bbbef6c82def",
   "metadata": {},
   "outputs": [],
   "source": [
    "from sklearn import datasets"
   ]
  },
  {
   "cell_type": "code",
   "execution_count": 12,
   "id": "ca705758-2cf3-48bc-90fa-02d9f0c18867",
   "metadata": {},
   "outputs": [],
   "source": [
    "X, y = datasets.load_diabetes(return_X_y=True)\n",
    "X = X[:, np.newaxis, 2] # we want only one feature\n",
    "\n",
    "X_train = X[:-20]\n",
    "X_test = X[-20:]\n",
    "\n",
    "y_train = y[:-20]\n",
    "y_test = y[-20:]"
   ]
  },
  {
   "cell_type": "code",
   "execution_count": 13,
   "id": "15f203d7-92e0-4304-96e5-467732a61aa6",
   "metadata": {},
   "outputs": [],
   "source": [
    "model = LinearRegression()\n",
    "model.fit(X_train, y_train)\n",
    "predictions = model.predict(X_test)"
   ]
  },
  {
   "cell_type": "code",
   "execution_count": 14,
   "id": "61951312-85dd-4e0a-a8e0-9697af5b4dcf",
   "metadata": {},
   "outputs": [
    {
     "data": {
      "text/plain": [
       "[<matplotlib.lines.Line2D at 0x7ff8842e85b0>]"
      ]
     },
     "execution_count": 14,
     "metadata": {},
     "output_type": "execute_result"
    },
    {
     "data": {
      "image/png": "[encoded data removed]",
      "text/plain": [
       "<Figure size 432x288 with 1 Axes>"
      ]
     },
     "metadata": {
      "needs_background": "light"
     },
     "output_type": "display_data"
    }
   ],
   "source": [
    "plt.scatter(X_test, y_test, color='blue')\n",
    "plt.plot(X_test, predictions, color='orange')"
   ]
  },
  {
   "cell_type": "code",
   "execution_count": null,
   "id": "93c06866-c66c-4c96-b404-4a32a9befa90",
   "metadata": {},
   "outputs": [],
   "source": []
  }
 ],
 "metadata": {
  "kernelspec": {
   "display_name": "Python 3 (ipykernel)",
   "language": "python",
   "name": "python3"
  },
  "language_info": {
   "codemirror_mode": {
    "name": "ipython",
    "version": 3
   },
   "file_extension": ".py",
   "mimetype": "text/x-python",
   "name": "python",
   "nbconvert_exporter": "python",
   "pygments_lexer": "ipython3",
   "version": "3.8.10"
  }
 },
 "nbformat": 4,
 "nbformat_minor": 5
}
